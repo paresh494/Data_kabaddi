{
 "cells": [
  {
   "cell_type": "code",
   "execution_count": 8,
   "metadata": {},
   "outputs": [],
   "source": [
    "import pandas as pd\n",
    "import numpy as np\n",
    "from sklearn.model_selection import cross_val_score\n",
    "from urllib.request import urlopen\n",
    "import json"
   ]
  },
  {
   "cell_type": "code",
   "execution_count": 25,
   "metadata": {},
   "outputs": [],
   "source": [
    "jsonurl = urlopen(\"https://www.prokabaddi.com/sifeeds/kabaddi/static/json/1_49_102_stats.json\")\n",
    "\n",
    "data_s7_total_points = json.load(jsonurl)\n",
    "\n",
    "df_s7_total_points = pd.DataFrame(data_s7_total_points['data'])"
   ]
  },
  {
   "cell_type": "code",
   "execution_count": 37,
   "metadata": {},
   "outputs": [],
   "source": [
    "df_s7_total_points.rename(columns = {'value': 'total_points'}, inplace = True)"
   ]
  },
  {
   "cell_type": "code",
   "execution_count": 39,
   "metadata": {},
   "outputs": [],
   "source": [
    "jsonurl = urlopen(\"https://www.prokabaddi.com/sifeeds/kabaddi/static/json/1_1_102_stats.json\")\n",
    "\n",
    "data_s1_total_points = json.load(jsonurl)\n",
    "\n",
    "df_s1_total_points = pd.DataFrame(data_s1_total_points['data'])\n",
    "\n",
    "df_s1_total_points.rename(columns = {'value': 'total_points'}, inplace = True)"
   ]
  },
  {
   "cell_type": "code",
   "execution_count": 41,
   "metadata": {},
   "outputs": [],
   "source": [
    "jsonurl = urlopen(\"https://www.prokabaddi.com/sifeeds/kabaddi/static/json/1_2_102_stats.json\")\n",
    "\n",
    "data_s2_total_points = json.load(jsonurl)\n",
    "\n",
    "df_s2_total_points = pd.DataFrame(data_s2_total_points['data'])\n",
    "\n",
    "df_s2_total_points.rename(columns = {'value': 'total_points'}, inplace = True)"
   ]
  },
  {
   "cell_type": "code",
   "execution_count": 42,
   "metadata": {},
   "outputs": [],
   "source": [
    "jsonurl = urlopen(\"https://www.prokabaddi.com/sifeeds/kabaddi/static/json/1_3_102_stats.json\")\n",
    "\n",
    "data_s3_total_points = json.load(jsonurl)\n",
    "\n",
    "df_s3_total_points = pd.DataFrame(data_s3_total_points['data'])\n",
    "\n",
    "df_s3_total_points.rename(columns = {'value': 'total_points'}, inplace = True)"
   ]
  },
  {
   "cell_type": "code",
   "execution_count": null,
   "metadata": {},
   "outputs": [],
   "source": [
    "jsonurl = urlopen(\"https://www.prokabaddi.com/sifeeds/kabaddi/static/json/1_4_102_stats.json\")\n",
    "\n",
    "data_s4_total_points = json.load(jsonurl)\n",
    "\n",
    "df_s4_total_points = pd.DataFrame(data_s4_total_points['data'])\n",
    "\n",
    "df_s4_total_points.rename(columns = {'value': 'total_points'}, inplace = True)"
   ]
  },
  {
   "cell_type": "code",
   "execution_count": null,
   "metadata": {},
   "outputs": [],
   "source": [
    "jsonurl = urlopen(\"https://www.prokabaddi.com/sifeeds/kabaddi/static/json/1_8_102_stats.json\")\n",
    "\n",
    "data_s5_total_points = json.load(jsonurl)\n",
    "\n",
    "df_s5_total_points = pd.DataFrame(data_s5_total_points['data'])\n",
    "\n",
    "df_s5_total_points.rename(columns = {'value': 'total_points'}, inplace = True)"
   ]
  }
 ],
 "metadata": {
  "kernelspec": {
   "display_name": "Python 3",
   "language": "python",
   "name": "python3"
  },
  "language_info": {
   "codemirror_mode": {
    "name": "ipython",
    "version": 3
   },
   "file_extension": ".py",
   "mimetype": "text/x-python",
   "name": "python",
   "nbconvert_exporter": "python",
   "pygments_lexer": "ipython3",
   "version": "3.6.5"
  }
 },
 "nbformat": 4,
 "nbformat_minor": 2
}
