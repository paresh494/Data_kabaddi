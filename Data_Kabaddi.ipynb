{
 "cells": [
  {
   "cell_type": "code",
   "execution_count": 15,
   "metadata": {
    "collapsed": true
   },
   "outputs": [],
   "source": [
    "import pandas as pd\n",
    "import numpy as np\n",
    "from sklearn.model_selection import cross_val_score\n",
    "from urllib.request import urlopen\n",
    "import json"
   ]
  },
  {
   "cell_type": "code",
   "execution_count": 70,
   "metadata": {
    "collapsed": true
   },
   "outputs": [],
   "source": [
    "seasons = [1,2,3,4,8,26,49]\n",
    "categories = [104,100,23,102,21,22,103,138,139,132,101,28]\n",
    "category_name = ['Super Raids', 'Super 10s','Successful Tackles' ,'Total points','successful raids','Raid points','Tackle Points'\n",
    "               ,'Avg Raid points', 'Avg tackle points','Do or die raid points','High 5s','Super tackles']"
   ]
  },
  {
   "cell_type": "code",
   "execution_count": 73,
   "metadata": {},
   "outputs": [
    {
     "name": "stdout",
     "output_type": "stream",
     "text": [
      "Super Raids\n",
      "Super 10s\n",
      "Successful Tackles\n",
      "Total points\n",
      "successful raids\n",
      "Raid points\n",
      "Tackle Points\n",
      "Avg Raid points\n",
      "Avg tackle points\n",
      "Do or die raid points\n",
      "High 5s\n",
      "Super tackles\n"
     ]
    }
   ],
   "source": [
    "## Data for super raids of all seasons\n",
    "\n",
    "data = pd.DataFrame()\n",
    "for index,category in enumerate(categories):\n",
    "    print(category_name[index])\n",
    "    for s in seasons:\n",
    "        jsonurl = urlopen(\"https://www.prokabaddi.com/sifeeds/kabaddi/static/json/1_{0}_{1}_stats.json\".format(s,category))\n",
    "\n",
    "        data_json = json.load(jsonurl)\n",
    "        \n",
    "        df = pd.DataFrame(data_json['data'])\n",
    "        df = df.rename(columns={'position_id':'position_id_{}'.format(s), 'position_name':'position_name_{}'.format(s), \n",
    "                   'team_id':'team_id_{}'.format(s),\n",
    "                   'team_name':'team_name_{}'.format(s),\n",
    "                  'value':'value_{}'.format(s)})\n",
    "        df['category'] = category\n",
    "        df['category_name'] = category_name[index]\n",
    "        if(data.shape[0] == 0):\n",
    "            data = df\n",
    "        else:    \n",
    "            data = pd.merge(data,df,how='outer',on='player_id'.format(s))"
   ]
  },
  {
   "cell_type": "code",
   "execution_count": 75,
   "metadata": {},
   "outputs": [
    {
     "data": {
      "text/plain": [
       "(394, 956)"
      ]
     },
     "execution_count": 75,
     "metadata": {},
     "output_type": "execute_result"
    }
   ],
   "source": [
    "data.shape"
   ]
  }
 ],
 "metadata": {
  "kernelspec": {
   "display_name": "Python 3",
   "language": "python",
   "name": "python3"
  },
  "language_info": {
   "codemirror_mode": {
    "name": "ipython",
    "version": 3
   },
   "file_extension": ".py",
   "mimetype": "text/x-python",
   "name": "python",
   "nbconvert_exporter": "python",
   "pygments_lexer": "ipython3",
   "version": "3.6.1"
  }
 },
 "nbformat": 4,
 "nbformat_minor": 2
}
